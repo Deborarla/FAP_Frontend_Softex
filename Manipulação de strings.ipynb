{
  "nbformat": 4,
  "nbformat_minor": 0,
  "metadata": {
    "colab": {
      "name": "Untitled0.ipynb",
      "provenance": [],
      "authorship_tag": "ABX9TyMf/L0BshG780BloYWQHSIk",
      "include_colab_link": true
    },
    "kernelspec": {
      "name": "python3",
      "display_name": "Python 3"
    },
    "language_info": {
      "name": "python"
    }
  },
  "cells": [
    {
      "cell_type": "markdown",
      "metadata": {
        "id": "view-in-github",
        "colab_type": "text"
      },
      "source": [
        "<a href=\"https://colab.research.google.com/github/Deborarla/FAP_Frontend_Softex/blob/main/Manipula%C3%A7%C3%A3o%20de%20strings.ipynb\" target=\"_parent\"><img src=\"https://colab.research.google.com/assets/colab-badge.svg\" alt=\"Open In Colab\"/></a>"
      ]
    },
    {
      "cell_type": "code",
      "source": [
        "#Código 1\n",
        "nome =str(input(\"Digite seu nome completo: \"))\n",
        "nome.title()\n",
        "nomeeditado = nome.title()\n",
        "print(nomeeditado)"
      ],
      "metadata": {
        "colab": {
          "base_uri": "https://localhost:8080/"
        },
        "id": "9CMzXgYSA7uk",
        "outputId": "f6d09d77-8977-4087-d62a-539d758a4882"
      },
      "execution_count": 5,
      "outputs": [
        {
          "output_type": "stream",
          "name": "stdout",
          "text": [
            "Digite seu nome completo: debora rafaelly lima albuquerque\n",
            "Debora Rafaelly Lima Albuquerque\n"
          ]
        }
      ]
    },
    {
      "cell_type": "code",
      "source": [
        "#Código 2\n",
        "lista = str(input(\"Digite os itens da sua lista de compras: \"))\n",
        "lista.split()\n",
        "item = lista.split()\n",
        "print(\"O primeiro item da sua lista é \", item[0])\n"
      ],
      "metadata": {
        "colab": {
          "base_uri": "https://localhost:8080/"
        },
        "id": "PWH4nQxlCBUV",
        "outputId": "76581d38-b17d-4e3c-86d9-52c1f7d25022"
      },
      "execution_count": 15,
      "outputs": [
        {
          "output_type": "stream",
          "name": "stdout",
          "text": [
            "Digite os itens da sua lista de compras: carne cebola batata\n",
            "O primeiro item da sua lista é  carne\n"
          ]
        }
      ]
    },
    {
      "cell_type": "code",
      "execution_count": 1,
      "metadata": {
        "colab": {
          "base_uri": "https://localhost:8080/"
        },
        "id": "OU9idjf361XO",
        "outputId": "f65ffadb-a522-4a08-f4e5-99005c9a3cff"
      },
      "outputs": [
        {
          "output_type": "stream",
          "name": "stdout",
          "text": [
            "Calculadora de idade\n",
            "Digite o de nascimento: 2000\n",
            "Deseja confirmar a informação? [S/N]s\n",
            "22\n"
          ]
        }
      ],
      "source": [
        "#Código 3\n",
        "print(\"Calculadora de idade\")\n",
        "nascimento = int(input(\"Digite o de nascimento: \"))\n",
        "anoatual = 2022\n",
        "idade = anoatual - nascimento\n",
        "\n",
        "conf = str(input(\"Deseja confirmar a informação? [S/N]\"))\n",
        "conf.upper()\n",
        "config = conf.upper()\n",
        "if config == \"S\":\n",
        "  print(idade)\n",
        "else: \n",
        "    pass"
      ]
    }
  ]
}