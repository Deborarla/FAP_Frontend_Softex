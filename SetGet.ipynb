{
  "nbformat": 4,
  "nbformat_minor": 0,
  "metadata": {
    "colab": {
      "name": "SetGet.ipynb",
      "provenance": [],
      "authorship_tag": "ABX9TyP6iePpY3Yb62WqCa+PUJPf",
      "include_colab_link": true
    },
    "kernelspec": {
      "name": "python3",
      "display_name": "Python 3"
    },
    "language_info": {
      "name": "python"
    }
  },
  "cells": [
    {
      "cell_type": "markdown",
      "metadata": {
        "id": "view-in-github",
        "colab_type": "text"
      },
      "source": [
        "<a href=\"https://colab.research.google.com/github/Deborarla/FAP_Frontend_Softex/blob/main/SetGet.ipynb\" target=\"_parent\"><img src=\"https://colab.research.google.com/assets/colab-badge.svg\" alt=\"Open In Colab\"/></a>"
      ]
    },
    {
      "cell_type": "code",
      "execution_count": 74,
      "metadata": {
        "id": "NFOCIrGOZeix"
      },
      "outputs": [],
      "source": [
        "class Pessoa():\n",
        "  def __init__ (self, nome, idade):\n",
        "    self.nome = nome\n",
        "    self.idade = idade\n",
        "#Metodo get para retornar o valor do atributo nome e idade\n",
        "  def get_nome (self):\n",
        "    return self.nome\n",
        "  def get_idade (self):\n",
        "    return self.idade\n",
        "\n",
        "#Metodo get para alterar o valor do atributo nome e idade\n",
        "  def set_nome (self, n):\n",
        "    self.nome = n\n",
        "  def set_idade (self, i):\n",
        "    self.idade = i"
      ]
    },
    {
      "cell_type": "code",
      "source": [
        "obj1 = Pessoa (\"Joana\", 27)\n",
        "print(\"Seu nome é \", obj1.get_nome())\n",
        "print(\"Sua idade é \", obj1.get_idade())"
      ],
      "metadata": {
        "id": "FMdNwBXAbjU7",
        "colab": {
          "base_uri": "https://localhost:8080/"
        },
        "outputId": "b8165a95-1d46-4215-9a77-cb9a20734ebe"
      },
      "execution_count": 79,
      "outputs": [
        {
          "output_type": "stream",
          "name": "stdout",
          "text": [
            "Seu nome é  Joana\n",
            "Sua idade é  27\n"
          ]
        }
      ]
    },
    {
      "cell_type": "code",
      "source": [
        "name = str(input(\"Digite seu nome: \"))\n",
        "idad = int(input(\"Digite sua idade atual\"))"
      ],
      "metadata": {
        "id": "yNIwc4W6lFkN",
        "colab": {
          "base_uri": "https://localhost:8080/"
        },
        "outputId": "4df6a2d3-75c1-4fed-f347-88a693830d6f"
      },
      "execution_count": 80,
      "outputs": [
        {
          "name": "stdout",
          "output_type": "stream",
          "text": [
            "Digite seu nome: Débora\n",
            "Digite sua idade atual30\n"
          ]
        }
      ]
    },
    {
      "cell_type": "code",
      "source": [
        "obj1.set_nome(name)\n",
        "obj1.set_idade(idad)"
      ],
      "metadata": {
        "id": "K1AkUdbWjQ_1"
      },
      "execution_count": 82,
      "outputs": []
    },
    {
      "cell_type": "code",
      "source": [
        "print(\"Seu nome após reatribuição é \", obj1.get_nome())\n",
        "print(\"Sua idade após reatribuição é \", obj1.get_idade())"
      ],
      "metadata": {
        "colab": {
          "base_uri": "https://localhost:8080/"
        },
        "id": "yn-nkVn6mz4H",
        "outputId": "d86a7a73-2eb7-4323-e959-a13a6d22c5f2"
      },
      "execution_count": 84,
      "outputs": [
        {
          "output_type": "stream",
          "name": "stdout",
          "text": [
            "Seu nome após reatribuição é  Débora\n",
            "Sua idade após reatribuição é  30\n"
          ]
        }
      ]
    }
  ]
}