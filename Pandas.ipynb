{
  "nbformat": 4,
  "nbformat_minor": 0,
  "metadata": {
    "colab": {
      "name": "Pandas.ipynb",
      "provenance": [],
      "collapsed_sections": [],
      "toc_visible": true,
      "authorship_tag": "ABX9TyPbd/DMvDLJR2gw36oOX4se",
      "include_colab_link": true
    },
    "kernelspec": {
      "name": "python3",
      "display_name": "Python 3"
    },
    "language_info": {
      "name": "python"
    }
  },
  "cells": [
    {
      "cell_type": "markdown",
      "metadata": {
        "id": "view-in-github",
        "colab_type": "text"
      },
      "source": [
        "<a href=\"https://colab.research.google.com/github/Deborarla/FAP_Frontend_Softex/blob/main/Pandas.ipynb\" target=\"_parent\"><img src=\"https://colab.research.google.com/assets/colab-badge.svg\" alt=\"Open In Colab\"/></a>"
      ]
    },
    {
      "cell_type": "code",
      "execution_count": 38,
      "metadata": {
        "id": "Sh06zodkUe2f",
        "colab": {
          "base_uri": "https://localhost:8080/"
        },
        "outputId": "40d866a4-4ba7-4129-ff92-130978d09561"
      },
      "outputs": [
        {
          "output_type": "stream",
          "name": "stdout",
          "text": [
            "     aluno  nota_1  nota_2  faltas\n",
            "0  aluno_1       7       9       1\n",
            "1  aluno_2       5      10       7\n",
            "2  aluno_3       8       6       2\n",
            "3  aluno-4       9       7       3\n"
          ]
        }
      ],
      "source": [
        "import pandas as pd\n",
        "#Abrindo arquivo CSV\n",
        "tabela = pd.read_excel('/content/notas_alunos.csv')\n",
        "print(tabela)"
      ]
    },
    {
      "cell_type": "markdown",
      "source": [
        ""
      ],
      "metadata": {
        "id": "XK2NJLVvGDn-"
      }
    },
    {
      "cell_type": "code",
      "source": [
        "#Incluindo coluna com as médias dos alunos\n",
        "tabela[\"media\"] = (tabela[\"nota_1\"] + tabela[\"nota_2\"]) / 2\n",
        "print(tabela)"
      ],
      "metadata": {
        "colab": {
          "base_uri": "https://localhost:8080/"
        },
        "id": "ebgsXSmsOlmd",
        "outputId": "ba32bc8f-3a02-4191-8010-f4a875db0f24"
      },
      "execution_count": 39,
      "outputs": [
        {
          "output_type": "stream",
          "name": "stdout",
          "text": [
            "     aluno  nota_1  nota_2  faltas  media\n",
            "0  aluno_1       7       9       1    8.0\n",
            "1  aluno_2       5      10       7    7.5\n",
            "2  aluno_3       8       6       2    7.0\n",
            "3  aluno-4       9       7       3    8.0\n"
          ]
        }
      ]
    },
    {
      "cell_type": "code",
      "source": [
        "#Incluidno situação dos alunos\n",
        "tabela[\"situacao\"] = [\"\",\"\",\"\",\"\"]\n",
        "for i in range(len(tabela[\"situacao\"])):\n",
        "  if (tabela.iloc[i,4] < 7) or (tabela.iloc[i,3] > 5):\n",
        "    tabela.iloc[i,5] = \"Reprovado\"\n",
        "  else:\n",
        "    tabela.iloc[i,5] = \"Aprovado\" \n",
        "print(tabela)"
      ],
      "metadata": {
        "colab": {
          "base_uri": "https://localhost:8080/"
        },
        "id": "nlu0EWm0Vtzg",
        "outputId": "06f01fce-27c9-4eb8-e1c4-03b5d0adf32e"
      },
      "execution_count": 42,
      "outputs": [
        {
          "output_type": "stream",
          "name": "stdout",
          "text": [
            "     aluno  nota_1  nota_2  faltas  media   situacao\n",
            "0  aluno_1       7       9       1    8.0   Aprovado\n",
            "1  aluno_2       5      10       7    7.5  Reprovado\n",
            "2  aluno_3       8       6       2    7.0   Aprovado\n",
            "3  aluno-4       9       7       3    8.0   Aprovado\n"
          ]
        }
      ]
    },
    {
      "cell_type": "code",
      "source": [
        "#Criando nova pasta CSV\n",
        "tabela.to_csv(\"/content/alunos_situacao.csv\")"
      ],
      "metadata": {
        "id": "K60aiRhwVutR"
      },
      "execution_count": 43,
      "outputs": []
    },
    {
      "cell_type": "code",
      "source": [
        "faltasm = 0\n",
        "mediag = 0\n",
        "mediam = 0\n",
        "\n",
        "for i in tabela[\"faltas\"]:\n",
        "  if i > faltasm:\n",
        "    faltasm = i\n",
        "\n",
        "for i in tabela[\"media\"]: \n",
        "  mediag += i\n",
        "  if i > mediam:\n",
        "    mediam = i\n",
        "    \n",
        "mediag = mediag/len(tabela[\"media\"])"
      ],
      "metadata": {
        "id": "6mTW9iKtWCHf"
      },
      "execution_count": 51,
      "outputs": []
    },
    {
      "cell_type": "code",
      "source": [
        "print(\"O maior númeor de faltas é o \", faltasm)\n",
        "print(\"A maior média geral é a \", mediam)\n",
        "print(\"A maior média é a \", mediam)"
      ],
      "metadata": {
        "colab": {
          "base_uri": "https://localhost:8080/"
        },
        "id": "P_EQMJHDX4Mw",
        "outputId": "0a572b30-ff95-4f43-b02c-7d3f2febd4d4"
      },
      "execution_count": 53,
      "outputs": [
        {
          "output_type": "stream",
          "name": "stdout",
          "text": [
            "O maior númeor de faltas é o  7\n",
            "A maior média geral é a  8.0\n",
            "A maior média é a  8.0\n"
          ]
        }
      ]
    }
  ]
}